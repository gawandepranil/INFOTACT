{
  "nbformat": 4,
  "nbformat_minor": 0,
  "metadata": {
    "colab": {
      "provenance": [],
      "authorship_tag": "ABX9TyOLoWmUjQ9siB2r3YM0+sRh",
      "include_colab_link": true
    },
    "kernelspec": {
      "name": "python3",
      "display_name": "Python 3"
    },
    "language_info": {
      "name": "python"
    }
  },
  "cells": [
    {
      "cell_type": "markdown",
      "metadata": {
        "id": "view-in-github",
        "colab_type": "text"
      },
      "source": [
        "<a href=\"https://colab.research.google.com/github/gawandepranil/INFOTACT/blob/main/ai_powered_task_management_system.ipynb\" target=\"_parent\"><img src=\"https://colab.research.google.com/assets/colab-badge.svg\" alt=\"Open In Colab\"/></a>"
      ]
    },
    {
      "cell_type": "code",
      "source": [
        "!pip install faker\n"
      ],
      "metadata": {
        "colab": {
          "base_uri": "https://localhost:8080/"
        },
        "id": "shomibEzPP-O",
        "outputId": "66e74bd4-7905-46a3-838d-620df2f3e6ea"
      },
      "execution_count": 71,
      "outputs": [
        {
          "output_type": "stream",
          "name": "stdout",
          "text": [
            "Requirement already satisfied: faker in /usr/local/lib/python3.11/dist-packages (37.3.0)\n",
            "Requirement already satisfied: tzdata in /usr/local/lib/python3.11/dist-packages (from faker) (2025.2)\n"
          ]
        }
      ]
    },
    {
      "cell_type": "code",
      "execution_count": 83,
      "metadata": {
        "colab": {
          "base_uri": "https://localhost:8080/"
        },
        "id": "-P-d-6OCO4PY",
        "outputId": "6b3ade72-4014-4a54-cb23-2d5288de66bb"
      },
      "outputs": [
        {
          "output_type": "stream",
          "name": "stdout",
          "text": [
            "Requirement already satisfied: faker in /usr/local/lib/python3.11/dist-packages (37.3.0)\n",
            "Requirement already satisfied: tzdata in /usr/local/lib/python3.11/dist-packages (from faker) (2025.2)\n",
            "    Task_ID  \\\n",
            "0  TSK-0001   \n",
            "1  TSK-0002   \n",
            "2  TSK-0003   \n",
            "3  TSK-0004   \n",
            "4  TSK-0005   \n",
            "\n",
            "                                                              Task_Description  \\\n",
            "0  Review recently submitted code for API implementation by the Frontend team.   \n",
            "1          Fix a critical issue in the AI module handled by the Frontend team.   \n",
            "2   Review recently submitted code for UI implementation by the Frontend team.   \n",
            "3          Develop a new feature for the UI functionality by the Backend team.   \n",
            "4           Fix a critical issue in the AI module handled by the Backend team.   \n",
            "\n",
            "     Task_Type        Created_By      Assigned_To Created_Date    Deadline  \\\n",
            "0  Code Review       Laura Jones       Jesus Cook   2025-05-27  2025-06-11   \n",
            "1          Bug    Chelsea Rogers    Ronald Robles   2025-04-16  2025-04-20   \n",
            "2  Code Review  Samantha Gilbert  Joseph Williams   2025-05-16  2025-05-20   \n",
            "3      Feature   Christopher Roy      Marie Tyler   2025-04-24  2025-05-01   \n",
            "4          Bug        Karen Tate    Hannah Stokes   2025-04-12  2025-04-16   \n",
            "\n",
            "        Status Priority  Estimated_Hours  Actual_Hours      Team Label  \\\n",
            "0  Code Review     High               13            10  Frontend   API   \n",
            "1  Code Review   Medium               19            20  Frontend    AI   \n",
            "2         Done      Low                8            13  Frontend    UI   \n",
            "3        To Do   Medium               18            13   Backend    UI   \n",
            "4         Done      Low               35            32   Backend    AI   \n",
            "\n",
            "                   Dependencies  \n",
            "0                                \n",
            "1                                \n",
            "2                                \n",
            "3  TSK-0003, TSK-0001, TSK-0002  \n",
            "4            TSK-0004, TSK-0003  \n"
          ]
        }
      ],
      "source": [
        "!pip install faker\n",
        "\n",
        "import pandas as pd\n",
        "from faker import Faker\n",
        "from random import choice, randint, sample\n",
        "from datetime import timedelta\n",
        "\n",
        "fake = Faker()\n",
        "\n",
        "# Categories\n",
        "task_types = ['Bug', 'Feature', 'Improvement', 'Code Review', 'Documentation']\n",
        "status_options = ['To Do', 'In Progress', 'Code Review', 'Done', 'Blocked']\n",
        "priorities = ['Low', 'Medium', 'High', 'Critical']\n",
        "teams = ['Backend', 'Frontend', 'DevOps', 'QA', 'Fullstack']\n",
        "labels = ['AI', 'Authentication', 'API', 'UI', 'DB', 'Integration']\n",
        "\n",
        "# Task type-based templates\n",
        "descriptions = {\n",
        "    'Bug': \"Fix a critical issue in the {label} module handled by the {team} team.\",\n",
        "    'Feature': \"Develop a new feature for the {label} functionality by the {team} team.\",\n",
        "    'Improvement': \"Enhance the performance of the {label} component, managed by the {team} team.\",\n",
        "    'Code Review': \"Review recently submitted code for {label} implementation by the {team} team.\",\n",
        "    'Documentation': \"Update documentation for the {label} processes maintained by the {team} team.\"\n",
        "}\n",
        "\n",
        "data = []\n",
        "\n",
        "# Generate 500 tasks\n",
        "for i in range(1, 501):\n",
        "    task_type = choice(task_types)\n",
        "    team = choice(teams)\n",
        "    label = choice(labels)\n",
        "    priority = choice(priorities)\n",
        "    created_date = fake.date_between(start_date='-60d', end_date='-10d')\n",
        "    deadline = created_date + timedelta(days=randint(3, 15))\n",
        "    est_hours = randint(2, 40)\n",
        "    actual_hours = est_hours + randint(-5, 5)\n",
        "\n",
        "    description = descriptions[task_type].format(label=label, team=team)\n",
        "\n",
        "    data.append({\n",
        "        'Task_ID': f'TSK-{i:04}',\n",
        "        'Task_Description': description,\n",
        "        'Task_Type': task_type,\n",
        "        'Created_By': fake.name(),\n",
        "        'Assigned_To': fake.name(),\n",
        "        'Created_Date': created_date,\n",
        "        'Deadline': deadline,\n",
        "        'Status': choice(status_options),\n",
        "        'Priority': priority,\n",
        "        'Estimated_Hours': est_hours,\n",
        "        'Actual_Hours': max(actual_hours, 1),\n",
        "        'Team': team,\n",
        "        'Label': label,\n",
        "        'Dependencies': ', '.join(sample([f'TSK-{j:04}' for j in range(1, i)], k=randint(0, 3))) if i > 3 else ''\n",
        "    })\n",
        "\n",
        "# Convert to DataFrame\n",
        "df = pd.DataFrame(data)\n",
        "\n",
        "# Export to CSV\n",
        "df.to_csv(\"ai_task_management_dataset.csv\", index=False)\n",
        "\n",
        "# Show full descriptions\n",
        "pd.set_option('display.max_colwidth', None)\n",
        "\n",
        "# Preview first 5 rows\n",
        "print(df.head())\n"
      ]
    },
    {
      "cell_type": "code",
      "source": [
        "# !pip install faker\n",
        "\n",
        "# import pandas as pd\n",
        "# from faker import Faker\n",
        "# from random import choice, randint, sample\n",
        "# from datetime import timedelta\n",
        "\n",
        "# fake = Faker()\n",
        "\n",
        "# task_types = ['Bug', 'Feature', 'Improvement', 'Code Review', 'Documentation']\n",
        "# status_options = ['To Do', 'In Progress', 'Code Review', 'Done', 'Blocked']\n",
        "# priorities = ['Low', 'Medium', 'High', 'Critical']\n",
        "# teams = ['Backend', 'Frontend', 'DevOps', 'QA', 'Fullstack']\n",
        "# labels = ['AI', 'Authentication', 'API', 'UI', 'DB', 'Integration']\n",
        "\n",
        "# data = []\n",
        "\n",
        "# for i in range(1, 201):  # 200 tasks\n",
        "#     created_date = fake.date_between(start_date='-60d', end_date='-10d')\n",
        "#     deadline = created_date + timedelta(days=randint(3, 15))\n",
        "#     est_hours = randint(2, 40)\n",
        "#     actual_hours = est_hours + randint(-5, 5)\n",
        "\n",
        "#     data.append({\n",
        "#         'Task_ID': f'TSK-{i:04}',\n",
        "#         'Task_Description': fake.sentence(nb_words=10),\n",
        "#         'Task_Type': choice(task_types),\n",
        "#         'Created_By': fake.name(),\n",
        "#         'Assigned_To': fake.name(),\n",
        "#         'Created_Date': created_date,\n",
        "#         'Deadline': deadline,\n",
        "#         'Status': choice(status_options),\n",
        "#         'Priority': choice(priorities),\n",
        "#         'Estimated_Hours': est_hours,\n",
        "#         'Actual_Hours': max(actual_hours, 1),\n",
        "#         'Team': choice(teams),\n",
        "#         'Label': choice(labels),\n",
        "#         'Dependencies': ', '.join(sample([f'TSK-{j:04}' for j in range(1, i)], k=randint(0, 3))) if i > 3 else ''\n",
        "#     })\n",
        "\n",
        "# df = pd.DataFrame(data)\n",
        "\n",
        "# # Save to CSV\n",
        "# df.to_csv(\"ai_task_management_dataset.csv\", index=False)\n",
        "\n",
        "# # Show a preview\n",
        "# print(df.head())\n"
      ],
      "metadata": {
        "id": "bd-SEihN8kxU"
      },
      "execution_count": 72,
      "outputs": []
    },
    {
      "cell_type": "code",
      "source": [
        "print(df.describe())\n",
        "print(\"**************\")\n",
        "print(\"total duplicates:\",df.duplicated().sum())"
      ],
      "metadata": {
        "colab": {
          "base_uri": "https://localhost:8080/"
        },
        "id": "m0HLbgqWPBBS",
        "outputId": "b456370a-e3e0-4cef-c3d0-79395d219587"
      },
      "execution_count": 73,
      "outputs": [
        {
          "output_type": "stream",
          "name": "stdout",
          "text": [
            "       Estimated_Hours  Actual_Hours\n",
            "count       500.000000    500.000000\n",
            "mean         20.576000     20.460000\n",
            "std          11.110135     11.394036\n",
            "min           2.000000      1.000000\n",
            "25%          11.000000     10.000000\n",
            "50%          20.000000     20.000000\n",
            "75%          30.000000     30.000000\n",
            "max          40.000000     45.000000\n",
            "**************\n",
            "total duplicates: 0\n"
          ]
        }
      ]
    },
    {
      "cell_type": "code",
      "source": [
        "df.info(verbose=True, memory_usage='deep')\n"
      ],
      "metadata": {
        "colab": {
          "base_uri": "https://localhost:8080/"
        },
        "id": "ujXslpXTPoi7",
        "outputId": "e8ac6d70-e29d-422c-ecf9-e8d84b0833ac"
      },
      "execution_count": 74,
      "outputs": [
        {
          "output_type": "stream",
          "name": "stdout",
          "text": [
            "<class 'pandas.core.frame.DataFrame'>\n",
            "RangeIndex: 500 entries, 0 to 499\n",
            "Data columns (total 14 columns):\n",
            " #   Column            Non-Null Count  Dtype \n",
            "---  ------            --------------  ----- \n",
            " 0   Task_ID           500 non-null    object\n",
            " 1   Task_Description  500 non-null    object\n",
            " 2   Task_Type         500 non-null    object\n",
            " 3   Created_By        500 non-null    object\n",
            " 4   Assigned_To       500 non-null    object\n",
            " 5   Created_Date      500 non-null    object\n",
            " 6   Deadline          500 non-null    object\n",
            " 7   Status            500 non-null    object\n",
            " 8   Priority          500 non-null    object\n",
            " 9   Estimated_Hours   500 non-null    int64 \n",
            " 10  Actual_Hours      500 non-null    int64 \n",
            " 11  Team              500 non-null    object\n",
            " 12  Label             500 non-null    object\n",
            " 13  Dependencies      500 non-null    object\n",
            "dtypes: int64(2), object(12)\n",
            "memory usage: 401.2 KB\n"
          ]
        }
      ]
    },
    {
      "cell_type": "code",
      "source": [
        "df.shape\n"
      ],
      "metadata": {
        "colab": {
          "base_uri": "https://localhost:8080/"
        },
        "id": "LauCN1jDPqlr",
        "outputId": "ab969631-7185-458f-a3f1-2a822fb83453"
      },
      "execution_count": 75,
      "outputs": [
        {
          "output_type": "execute_result",
          "data": {
            "text/plain": [
              "(500, 14)"
            ]
          },
          "metadata": {},
          "execution_count": 75
        }
      ]
    },
    {
      "cell_type": "code",
      "source": [
        "df.isnull().sum()"
      ],
      "metadata": {
        "id": "lKeaDgaDQGIA",
        "colab": {
          "base_uri": "https://localhost:8080/",
          "height": 523
        },
        "outputId": "97d5eed4-1193-4d36-8054-1df06b9c8dc4"
      },
      "execution_count": 76,
      "outputs": [
        {
          "output_type": "execute_result",
          "data": {
            "text/plain": [
              "Task_ID             0\n",
              "Task_Description    0\n",
              "Task_Type           0\n",
              "Created_By          0\n",
              "Assigned_To         0\n",
              "Created_Date        0\n",
              "Deadline            0\n",
              "Status              0\n",
              "Priority            0\n",
              "Estimated_Hours     0\n",
              "Actual_Hours        0\n",
              "Team                0\n",
              "Label               0\n",
              "Dependencies        0\n",
              "dtype: int64"
            ],
            "text/html": [
              "<div>\n",
              "<style scoped>\n",
              "    .dataframe tbody tr th:only-of-type {\n",
              "        vertical-align: middle;\n",
              "    }\n",
              "\n",
              "    .dataframe tbody tr th {\n",
              "        vertical-align: top;\n",
              "    }\n",
              "\n",
              "    .dataframe thead th {\n",
              "        text-align: right;\n",
              "    }\n",
              "</style>\n",
              "<table border=\"1\" class=\"dataframe\">\n",
              "  <thead>\n",
              "    <tr style=\"text-align: right;\">\n",
              "      <th></th>\n",
              "      <th>0</th>\n",
              "    </tr>\n",
              "  </thead>\n",
              "  <tbody>\n",
              "    <tr>\n",
              "      <th>Task_ID</th>\n",
              "      <td>0</td>\n",
              "    </tr>\n",
              "    <tr>\n",
              "      <th>Task_Description</th>\n",
              "      <td>0</td>\n",
              "    </tr>\n",
              "    <tr>\n",
              "      <th>Task_Type</th>\n",
              "      <td>0</td>\n",
              "    </tr>\n",
              "    <tr>\n",
              "      <th>Created_By</th>\n",
              "      <td>0</td>\n",
              "    </tr>\n",
              "    <tr>\n",
              "      <th>Assigned_To</th>\n",
              "      <td>0</td>\n",
              "    </tr>\n",
              "    <tr>\n",
              "      <th>Created_Date</th>\n",
              "      <td>0</td>\n",
              "    </tr>\n",
              "    <tr>\n",
              "      <th>Deadline</th>\n",
              "      <td>0</td>\n",
              "    </tr>\n",
              "    <tr>\n",
              "      <th>Status</th>\n",
              "      <td>0</td>\n",
              "    </tr>\n",
              "    <tr>\n",
              "      <th>Priority</th>\n",
              "      <td>0</td>\n",
              "    </tr>\n",
              "    <tr>\n",
              "      <th>Estimated_Hours</th>\n",
              "      <td>0</td>\n",
              "    </tr>\n",
              "    <tr>\n",
              "      <th>Actual_Hours</th>\n",
              "      <td>0</td>\n",
              "    </tr>\n",
              "    <tr>\n",
              "      <th>Team</th>\n",
              "      <td>0</td>\n",
              "    </tr>\n",
              "    <tr>\n",
              "      <th>Label</th>\n",
              "      <td>0</td>\n",
              "    </tr>\n",
              "    <tr>\n",
              "      <th>Dependencies</th>\n",
              "      <td>0</td>\n",
              "    </tr>\n",
              "  </tbody>\n",
              "</table>\n",
              "</div><br><label><b>dtype:</b> int64</label>"
            ]
          },
          "metadata": {},
          "execution_count": 76
        }
      ]
    },
    {
      "cell_type": "code",
      "source": [
        "import matplotlib.pyplot as plt\n",
        "import seaborn as sns\n",
        "\n",
        "# Check for duplicates\n",
        "print(\"Duplicate rows:\", df.duplicated().sum())\n",
        "print(\"*******************\")\n",
        "\n",
        "# Check unique values\n",
        "print(df['Task_Type'].value_counts())\n",
        "print(\"*******************\")\n",
        "print(df['Status'].value_counts())\n",
        "print(\"********************\")\n",
        "print(df['Priority'].value_counts())\n",
        "print(\"********************\")\n",
        "print(df['Team'].value_counts())\n"
      ],
      "metadata": {
        "colab": {
          "base_uri": "https://localhost:8080/"
        },
        "id": "b1DY5r3DsFw0",
        "outputId": "826a5442-d8f6-4837-bdf7-3c5ca04199e3"
      },
      "execution_count": 77,
      "outputs": [
        {
          "output_type": "stream",
          "name": "stdout",
          "text": [
            "Duplicate rows: 0\n",
            "*******************\n",
            "Task_Type\n",
            "Feature          105\n",
            "Improvement      103\n",
            "Bug              103\n",
            "Code Review      100\n",
            "Documentation     89\n",
            "Name: count, dtype: int64\n",
            "*******************\n",
            "Status\n",
            "In Progress    109\n",
            "To Do          107\n",
            "Blocked        101\n",
            "Done            92\n",
            "Code Review     91\n",
            "Name: count, dtype: int64\n",
            "********************\n",
            "Priority\n",
            "Critical    139\n",
            "Medium      128\n",
            "High        124\n",
            "Low         109\n",
            "Name: count, dtype: int64\n",
            "********************\n",
            "Team\n",
            "Frontend     107\n",
            "Backend      102\n",
            "QA           102\n",
            "Fullstack     95\n",
            "DevOps        94\n",
            "Name: count, dtype: int64\n"
          ]
        }
      ]
    },
    {
      "cell_type": "code",
      "source": [
        "# Visualizations\n",
        "plt.figure(figsize=(10, 5))\n",
        "sns.countplot(data=df, x='Task_Type')\n",
        "plt.title(\"Distribution of Task Types\")\n",
        "plt.xticks(rotation=45)\n",
        "plt.show()"
      ],
      "metadata": {
        "colab": {
          "base_uri": "https://localhost:8080/",
          "height": 559
        },
        "id": "XSzUltFjslJm",
        "outputId": "543aee52-539e-470a-add3-e33caf7b5208"
      },
      "execution_count": 78,
      "outputs": [
        {
          "output_type": "display_data",
          "data": {
            "text/plain": [
              "<Figure size 1000x500 with 1 Axes>"
            ],
            "image/png": "[encoded data removed]"
          },
          "metadata": {}
        }
      ]
    },
    {
      "cell_type": "code",
      "source": [
        "plt.figure(figsize=(10, 5))\n",
        "sns.countplot(data=df, x='Status')\n",
        "plt.title(\"Distribution of Task Status\")\n",
        "plt.xticks(rotation=45)\n",
        "plt.show()"
      ],
      "metadata": {
        "colab": {
          "base_uri": "https://localhost:8080/",
          "height": 546
        },
        "id": "VQj86kHxs8nR",
        "outputId": "cdd04971-36a7-49f2-c582-cf1db8d5dd4a"
      },
      "execution_count": 79,
      "outputs": [
        {
          "output_type": "display_data",
          "data": {
            "text/plain": [
              "<Figure size 1000x500 with 1 Axes>"
            ],
            "image/png": "[encoded data removed]"
          },
          "metadata": {}
        }
      ]
    },
    {
      "cell_type": "code",
      "source": [
        "# Correlation heatmap\n",
        "plt.figure(figsize=(8, 6))\n",
        "sns.heatmap(df[['Estimated_Hours', 'Actual_Hours']].corr(), annot=True, cmap='coolwarm')\n",
        "plt.title(\"Correlation Heatmap\")\n",
        "plt.show()\n"
      ],
      "metadata": {
        "colab": {
          "base_uri": "https://localhost:8080/",
          "height": 545
        },
        "id": "VG2lUScTtBIu",
        "outputId": "59c73169-db80-47a0-f427-8d3324cc2878"
      },
      "execution_count": 80,
      "outputs": [
        {
          "output_type": "display_data",
          "data": {
            "text/plain": [
              "<Figure size 800x600 with 2 Axes>"
            ],
            "image/png": "[encoded data removed]"
          },
          "metadata": {}
        }
      ]
    },
    {
      "cell_type": "code",
      "source": [
        "import nltk\n",
        "\n",
        "# Download both resources properly\n",
        "nltk.download('punkt')\n",
        "nltk.download('punkt_tab')  # <-- Explicitly added\n",
        "nltk.download('stopwords')\n"
      ],
      "metadata": {
        "colab": {
          "base_uri": "https://localhost:8080/"
        },
        "id": "WDbBy2-jty8_",
        "outputId": "fd24e11a-dc2e-4aa1-c9ac-d36961c150b2"
      },
      "execution_count": 81,
      "outputs": [
        {
          "output_type": "stream",
          "name": "stderr",
          "text": [
            "[nltk_data] Downloading package punkt to /root/nltk_data...\n",
            "[nltk_data]   Package punkt is already up-to-date!\n",
            "[nltk_data] Downloading package punkt_tab to /root/nltk_data...\n",
            "[nltk_data]   Package punkt_tab is already up-to-date!\n",
            "[nltk_data] Downloading package stopwords to /root/nltk_data...\n",
            "[nltk_data]   Package stopwords is already up-to-date!\n"
          ]
        },
        {
          "output_type": "execute_result",
          "data": {
            "text/plain": [
              "True"
            ]
          },
          "metadata": {},
          "execution_count": 81
        }
      ]
    },
    {
      "cell_type": "code",
      "source": [
        "import nltk\n",
        "from nltk.corpus import stopwords\n",
        "from nltk.tokenize import word_tokenize\n",
        "from nltk.stem import PorterStemmer\n",
        "import string\n",
        "\n",
        "# nltk.download('punkt')\n",
        "# nltk.download('stopwords')\n",
        "\n",
        "stop_words = set(stopwords.words('english'))\n",
        "stemmer = PorterStemmer()\n",
        "\n",
        "def preprocess_text(text):\n",
        "    # Lowercase\n",
        "    text = text.lower()\n",
        "    # Tokenize\n",
        "    tokens = word_tokenize(text)\n",
        "    # Remove punctuation and stopwords\n",
        "    tokens = [word for word in tokens if word.isalpha() and word not in stop_words]\n",
        "    # Stemming\n",
        "    stemmed_tokens = [stemmer.stem(word) for word in tokens]\n",
        "    return ' '.join(stemmed_tokens)\n",
        "\n",
        "# Apply preprocessing\n",
        "df['Cleaned_Task_Description'] = df['Task_Description'].apply(preprocess_text)\n",
        "\n",
        "# Preview cleaned text\n",
        "print(df[['Task_Description', 'Cleaned_Task_Description']].head())\n"
      ],
      "metadata": {
        "colab": {
          "base_uri": "https://localhost:8080/"
        },
        "id": "cgTH10pTtGCD",
        "outputId": "722ea8cb-79c1-47ff-a916-f48c0d1284da"
      },
      "execution_count": 82,
      "outputs": [
        {
          "output_type": "stream",
          "name": "stdout",
          "text": [
            "                                                                          Task_Description  \\\n",
            "0                     Develop a new feature for the DB functionality by the Frontend team.   \n",
            "1  Update documentation for the Authentication processes maintained by the Fullstack team.   \n",
            "2                 Enhance the performance of the AI component, managed by the DevOps team.   \n",
            "3                            Fix a critical issue in the DB module handled by the QA team.   \n",
            "4                       Develop a new feature for the UI functionality by the DevOps team.   \n",
            "\n",
            "                                 Cleaned_Task_Description  \n",
            "0            develop new featur db function frontend team  \n",
            "1  updat document authent process maintain fullstack team  \n",
            "2               enhanc perform ai compon manag devop team  \n",
            "3                  fix critic issu db modul handl qa team  \n",
            "4               develop new featur ui function devop team  \n"
          ]
        }
      ]
    },
    {
      "cell_type": "code",
      "source": [],
      "metadata": {
        "id": "o5U-hISwtbkO"
      },
      "execution_count": 82,
      "outputs": []
    },
    {
      "cell_type": "code",
      "source": [],
      "metadata": {
        "id": "t0ZBHR69760L"
      },
      "execution_count": 82,
      "outputs": []
    },
    {
      "cell_type": "code",
      "source": [],
      "metadata": {
        "id": "_aNJdnUB_LWA"
      },
      "execution_count": 82,
      "outputs": []
    }
  ]
}